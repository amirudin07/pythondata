{
 "cells": [
  {
   "cell_type": "code",
   "execution_count": 1,
   "metadata": {},
   "outputs": [],
   "source": [
    "from tweepy.streaming import StreamListener\n",
    "from tweepy import OAuthHandler\n",
    "from tweepy import Stream\n",
    "from tweepy import API \n",
    "from tweepy import Cursor\n",
    "from tweepy import Stream\n",
    "\n",
    "from textblob import TextBlob\n",
    "\n",
    "import matplotlib.pyplot as plt\n",
    "import numpy as np\n",
    "import pandas as pd\n",
    "import re"
   ]
  },
  {
   "cell_type": "code",
   "execution_count": 2,
   "metadata": {},
   "outputs": [],
   "source": [
    "ACCESS_TOKEN = \"972856602377076736-9n9KJdQlm6RPlD8tLrTBOnT2wZRSdZU\"\n",
    "ACCESS_TOKEN_SECRET = \"5mxCT0O3efmmHtmABpJH30BbzjhE1tZSUtvljUjuaCknG\"\n",
    "CONSUMER_KEY = \"WdEkXvesactnxwzuTJlDRCQ2X\"\n",
    "CONSUMER_SECRET = \"oK9bJkG7gF7PNKpM8t8mVAtYOl3YwNhfy5mkIB1PbOYnTdEyPZ\""
   ]
  },
  {
   "cell_type": "code",
   "execution_count": 3,
   "metadata": {},
   "outputs": [],
   "source": [
    "# # # # TWITTER CLIENT # # # #\n",
    "class TwitterClient():\n",
    "    def __init__(self, twitter_user=None):\n",
    "        self.auth = TwitterAuthenticator().authenticate_twitter_app()\n",
    "        self.twitter_client = API(self.auth)\n",
    "\n",
    "        self.twitter_user = twitter_user\n",
    "\n",
    "    def get_twitter_client_api(self):\n",
    "        return self.twitter_client\n",
    "\n",
    "    def get_user_timeline_tweets(self, num_tweets):\n",
    "        tweets = []\n",
    "        for tweet in Cursor(self.twitter_client.user_timeline, id=self.twitter_user).items(num_tweets):\n",
    "            tweets.append(tweet)\n",
    "        return tweets\n",
    "\n",
    "    def get_friend_list(self, num_friends):\n",
    "        friend_list = []\n",
    "        for friend in Cursor(self.twitter_client.friends, id=self.twitter_user).items(num_friends):\n",
    "            friend_list.append(friend)\n",
    "        return friend_list\n",
    "\n",
    "    def get_home_timeline_tweets(self, num_tweets):\n",
    "        home_timeline_tweets = []\n",
    "        for tweet in Cursor(self.twitter_client.home_timeline, id=self.twitter_user).items(num_tweets):\n",
    "            home_timeline_tweets.append(tweet)\n",
    "        return home_timeline_tweets"
   ]
  },
  {
   "cell_type": "code",
   "execution_count": 4,
   "metadata": {},
   "outputs": [],
   "source": [
    "# # # # TWITTER AUTHENTICATER # # # #\n",
    "class TwitterAuthenticator():\n",
    "\n",
    "    def authenticate_twitter_app(self):\n",
    "        auth = OAuthHandler(CONSUMER_KEY, CONSUMER_SECRET)\n",
    "        auth.set_access_token(ACCESS_TOKEN, ACCESS_TOKEN_SECRET)\n",
    "        return auth"
   ]
  },
  {
   "cell_type": "code",
   "execution_count": 5,
   "metadata": {},
   "outputs": [],
   "source": [
    "# # # # TWITTER STREAMER # # # #\n",
    "class TwitterStreamer():\n",
    "    \"\"\"\n",
    "    Class for streaming and processing live tweets.\n",
    "    \"\"\"\n",
    "    def __init__(self):\n",
    "        pass\n",
    "\n",
    "    def stream_tweets(self, fetched_tweets_filename, hash_tag_list):\n",
    "        # This handles Twitter authetification and the connection to Twitter Streaming API\n",
    "        listener = StdOutListener(fetched_tweets_filename)\n",
    "        auth = OAuthHandler(CONSUMER_KEY, CONSUMER_SECRET)\n",
    "        auth.set_access_token(ACCESS_TOKEN, ACCESS_TOKEN_SECRET)\n",
    "        stream = Stream(auth, listener)\n",
    "\n",
    "        # This line filter Twitter Streams to capture data by the keywords: \n",
    "        stream.filter(track=hash_tag_list)"
   ]
  },
  {
   "cell_type": "code",
   "execution_count": 6,
   "metadata": {},
   "outputs": [
    {
     "name": "stdout",
     "output_type": "stream",
     "text": [
      "                                                tweets                   id  \\\n",
      "0    Complete #AWSDeepRacer weekly challenges for y...  1163213159416700929   \n",
      "1    New #AWSLaunches!\\n🚀AWS App Mesh now supports ...  1163204427718778882   \n",
      "2    Find out how to build, secure &amp; manage you...  1163172215615033346   \n",
      "3    Not sure which AWS data transfer tools are bes...  1163166606916300801   \n",
      "4    Heading to #VMworld 2019 US? Check out our \"Kn...  1163143775230844929   \n",
      "5    Learn how to provide more fine-grained securit...  1163142771429036032   \n",
      "6    Find out how you can provide centralized, colu...  1163125405634764801   \n",
      "7    📊 Planning to run AWS infrastructure on-premis...  1163102513794625537   \n",
      "8    In this episode of #ThisisMyArchitecture, Vale...  1163064572644929536   \n",
      "9    In this installment of our enterprise strategi...  1163043881522479104   \n",
      "10   Do you love learning something new every day &...  1163017659782447104   \n",
      "11   Running Windows applications? You can now stor...  1162868464517820420   \n",
      "12   Learn how you can enable your users to easily ...  1162770065105797120   \n",
      "13   📊 Want to learn more about AWS &amp; public cl...  1162755219492614144   \n",
      "14   Struggling to find success with your data lake...  1162751188716138496   \n",
      "15   AI &amp; ML can boost your business in a big w...  1162672947934453761   \n",
      "16   Learn how to \"jump start\" labeling jobs using ...  1162535519575793666   \n",
      "17   There are tens of thousands of data lakes buil...  1162500789719490560   \n",
      "18   New #AWSLaunches!\\n🚀AWS RoboMaker now supports...  1162489468257017860   \n",
      "19   New #AWSLaunches!\\n🚀AWS Support API Now Availa...  1162487956969578499   \n",
      "20   New #AWSLaunches!\\n🚀Amazon SageMaker is Now Av...  1162484109303848960   \n",
      "21   New #AWSLaunches!\\n🚀AWS Transfer for SFTP is n...  1162482871078195201   \n",
      "22   Looking for a deep dive into architecture best...  1162446685173424130   \n",
      "23   Getting started with Amazon Redshift? Try this...  1162409692284563456   \n",
      "24   📊 Looking for advice from AWS users? Here are ...  1162392829093732353   \n",
      "25   Kashif has tips on troubleshooting 403 errors ...  1162223717595766784   \n",
      "26   Check out this Tech Talk to learn how to build...  1162172630151159810   \n",
      "27   New #AWSLaunches!\\n🚀Amazon Kinesis Data Fireho...  1162129598395686913   \n",
      "28   You know my weakness... belly rubs &amp; paws ...  1162094369433903105   \n",
      "29   Are you a senior enterprise exec struggling to...  1162081778007515137   \n",
      "..                                                 ...                  ...   \n",
      "170  From self-driving cars, medical diagnostics &a...  1157733128150106114   \n",
      "171  Find how you can use custom entity recognition...  1157721059300450307   \n",
      "172  #MachineLearning tips &amp; tricks: Learn how ...  1157710031959277568   \n",
      "173  Find out how you can manage large numbers of r...  1157698146937507840   \n",
      "174  📊 Want to learn more about AWS &amp; public cl...  1157681788774486023   \n",
      "175  Security has become everyone’s job and a strat...  1157667195301879809   \n",
      "176  A team of 24 nationalities speaking 28 languag...  1157543251357945856   \n",
      "177  Use the power of CloudTrail to review IAM acce...  1157508897026072579   \n",
      "178  New #AWSLaunches!\\n🚀Amazon QuickSight adds sup...  1157480462589333505   \n",
      "179  On this episode of #ThisisMyArchitecture, lear...  1157462940179673089   \n",
      "180  📺 Coming soon to YouTube &amp; Prime Video: #A...  1157457645571366913   \n",
      "181  Welcome to Maxwell's playground. #DogsofAWS ht...  1157407230603550722   \n",
      "182  New #AWSLaunches!\\n🚀Amazon EKS available in Ho...  1157338550456737792   \n",
      "183  New #AWSLaunches!\\n\\n🚀Amazon DocumentDB (with ...  1157338462649036802   \n",
      "184  New #AWSLaunches!\\n🚀AWS CodeBuild now availabl...  1157338459939516427   \n",
      "185  📊 Are governments ready for the next generatio...  1157319400862752769   \n",
      "186  Kiran shares how to resolve Error 1227 when en...  1157154061088522240   \n",
      "187  RT @SiliconANGLE: FINRA goes ‘all-in’ on publi...  1157094222220025856   \n",
      "188  Introducing two new AWS #DeepLens sample proje...  1157060061707087873   \n",
      "189  Read how Loro, a robotic “parrot on the should...  1157036803607748613   \n",
      "190  Find out how you can use an easy, cost-effecti...  1157019174117527558   \n",
      "191  🏁 Launching today: the #AWSDeepRacer Scholarsh...  1157007628461064192   \n",
      "192  🏁 Launching today! The #AWSDeepRacer August ra...  1156965827977076736   \n",
      "193  New #AWSLaunches!\\n🚀Amazon Sumerian now suppor...  1156965318792744960   \n",
      "194  📊 What's the current state of DBaaS? Learn how...  1156957016163848193   \n",
      "195  Are you ready to kick off your cloud career wi...  1156912147273846786   \n",
      "196  \"AWS’s pricing plan for the Concurrency Scalin...  1156895607455281152   \n",
      "197  You can modify your CloudFront distribution to...  1156799221267337221   \n",
      "198  New #AWSLaunches!\\n🚀Amazon MSK adds support fo...  1156741591480119296   \n",
      "199  #AWSDeepRacer Stories: Meet our youngest compe...  1156726298087215106   \n",
      "\n",
      "     len                date           source  likes  retweets  sentiment  \n",
      "0    140 2019-08-18 22:16:43         Sprinklr     12         4          1  \n",
      "1    140 2019-08-18 21:42:01         Sprinklr     18         7          1  \n",
      "2    137 2019-08-18 19:34:01         Sprinklr     24        11          1  \n",
      "3    140 2019-08-18 19:11:44         Sprinklr     84        23          1  \n",
      "4    140 2019-08-18 17:41:00         Sprinklr     21        11          1  \n",
      "5    140 2019-08-18 17:37:01         Sprinklr     39        12          1  \n",
      "6    140 2019-08-18 16:28:01         Sprinklr     24        10          0  \n",
      "7    129 2019-08-18 14:57:03         Sprinklr     41        18          0  \n",
      "8    140 2019-08-18 12:26:17         Sprinklr     57        20          1  \n",
      "9    140 2019-08-18 11:04:04         Sprinklr     23         9          0  \n",
      "10   144 2019-08-18 09:19:52         Sprinklr     62        13          1  \n",
      "11   139 2019-08-17 23:27:01         Sprinklr     41        13          0  \n",
      "12   144 2019-08-17 16:56:01         Sprinklr     51        12          1  \n",
      "13   144 2019-08-17 15:57:01         Sprinklr     33         9          1  \n",
      "14   144 2019-08-17 15:41:00         Sprinklr     29         9          1  \n",
      "15   144 2019-08-17 10:30:06         Sprinklr     47        13          0  \n",
      "16   125 2019-08-17 01:24:01         Sprinklr     24        10          0  \n",
      "17   144 2019-08-16 23:06:01         Sprinklr     42        18          0  \n",
      "18   140 2019-08-16 22:21:01         Sprinklr     20         7          1  \n",
      "19   140 2019-08-16 22:15:01         Sprinklr     27        11          1  \n",
      "20   139 2019-08-16 21:59:44         Sprinklr     21        10          1  \n",
      "21   140 2019-08-16 21:54:49         Sprinklr     17        11          1  \n",
      "22   143 2019-08-16 19:31:01         Sprinklr    156        40          1  \n",
      "23   139 2019-08-16 17:04:01         Sprinklr     73        27          0  \n",
      "24   140 2019-08-16 15:57:01         Sprinklr     39        18          1  \n",
      "25   139 2019-08-16 04:45:02         Sprinklr     41        14          0  \n",
      "26   131 2019-08-16 01:22:01         Sprinklr     27        12          1  \n",
      "27   140 2019-08-15 22:31:02         Sprinklr     24        20          1  \n",
      "28    86 2019-08-15 20:11:02         Sprinklr    170        27         -1  \n",
      "29   139 2019-08-15 19:21:00         Sprinklr     24        13          0  \n",
      "..   ...                 ...              ...    ...       ...        ...  \n",
      "170  143 2019-08-03 19:21:02         Sprinklr     58        30          1  \n",
      "171  140 2019-08-03 18:33:04         Sprinklr     37        20          0  \n",
      "172  152 2019-08-03 17:49:15         Sprinklr    117        53          0  \n",
      "173  134 2019-08-03 17:02:01         Sprinklr     48        18          1  \n",
      "174  144 2019-08-03 15:57:01         Sprinklr     35        17          1  \n",
      "175  140 2019-08-03 14:59:02         Sprinklr     74        22          0  \n",
      "176  144 2019-08-03 06:46:31         Sprinklr     63        24          0  \n",
      "177  116 2019-08-03 04:30:01         Sprinklr     53        17          0  \n",
      "178  144 2019-08-03 02:37:01         Sprinklr     18        13          1  \n",
      "179  140 2019-08-03 01:27:24         Sprinklr     84        37          0  \n",
      "180  144 2019-08-03 01:06:21         Sprinklr     37        12          1  \n",
      "181   67 2019-08-02 21:46:02         Sprinklr     55        11          1  \n",
      "182  140 2019-08-02 17:13:07         Sprinklr     31        14          1  \n",
      "183  144 2019-08-02 17:12:46         Sprinklr     30        12          1  \n",
      "184  144 2019-08-02 17:12:45         Sprinklr     27         8          1  \n",
      "185  140 2019-08-02 15:57:01         Sprinklr     20        10          1  \n",
      "186  138 2019-08-02 05:00:01         Sprinklr     30        11          0  \n",
      "187  116 2019-08-02 01:02:15  Twitter Web App      0         8          0  \n",
      "188  140 2019-08-01 22:46:30         Sprinklr     32        12          1  \n",
      "189  144 2019-08-01 21:14:05         Sprinklr     28         7         -1  \n",
      "190  144 2019-08-01 20:04:02         Sprinklr     46        14          1  \n",
      "191  127 2019-08-01 19:18:09         Sprinklr     55        32          0  \n",
      "192  144 2019-08-01 16:32:03         Sprinklr     28         9          0  \n",
      "193  140 2019-08-01 16:30:02         Sprinklr     21        10          1  \n",
      "194  140 2019-08-01 15:57:02         Sprinklr     32        22          1  \n",
      "195  138 2019-08-01 12:58:44         Sprinklr     36        12          1  \n",
      "196  140 2019-08-01 11:53:01         Sprinklr     29        10          0  \n",
      "197  136 2019-08-01 05:30:01         Sprinklr     40        14          1  \n",
      "198  144 2019-08-01 01:41:01         Sprinklr     32        18          1  \n",
      "199  140 2019-08-01 00:40:15         Sprinklr    241        41          0  \n",
      "\n",
      "[200 rows x 8 columns]\n"
     ]
    }
   ],
   "source": [
    "# # # # TWITTER STREAM LISTENER # # # #\n",
    "class TwitterListener(StreamListener):\n",
    "    \"\"\"\n",
    "    This is a basic listener that just prints received tweets to stdout.\n",
    "    \"\"\"\n",
    "    def __init__(self, fetched_tweets_filename):\n",
    "        self.fetched_tweets_filename = fetched_tweets_filename\n",
    "\n",
    "    def on_data(self, data):\n",
    "        try:\n",
    "            print(data)\n",
    "            with open(self.fetched_tweets_filename, 'a') as tf:\n",
    "                tf.write(data)\n",
    "            return True\n",
    "        except BaseException as e:\n",
    "            print(\"Error on_data %s\" % str(e))\n",
    "        return True\n",
    "          \n",
    "    def on_error(self, status):\n",
    "        if status == 420:\n",
    "            # Returning False on_data method in case rate limit occurs.\n",
    "            return False\n",
    "        print(status)\n",
    "\n",
    "\n",
    "class TweetAnalyzer():\n",
    "    \"\"\"\n",
    "    Functionality for analyzing and categorizing content from tweets.\n",
    "    \"\"\"\n",
    "\n",
    "    def clean_tweet(self, tweet):\n",
    "        return ' '.join(re.sub(\"(@[A-Za-z0-9]+)|([^0-9A-Za-z \\t])|(\\w+:\\/\\/\\S+)\", \" \", tweet).split())\n",
    "\n",
    "    def analyze_sentiment(self, tweet):\n",
    "        analysis = TextBlob(self.clean_tweet(tweet))\n",
    "        \n",
    "        if analysis.sentiment.polarity > 0:\n",
    "            return 1\n",
    "        elif analysis.sentiment.polarity == 0:\n",
    "            return 0\n",
    "        else:\n",
    "            return -1\n",
    "\n",
    "    def tweets_to_data_frame(self, tweets):\n",
    "        df = pd.DataFrame(data=[tweet.text for tweet in tweets], columns=['tweets'])\n",
    "\n",
    "        df['id'] = np.array([tweet.id for tweet in tweets])\n",
    "        df['len'] = np.array([len(tweet.text) for tweet in tweets])\n",
    "        df['date'] = np.array([tweet.created_at for tweet in tweets])\n",
    "        df['source'] = np.array([tweet.source for tweet in tweets])\n",
    "        df['likes'] = np.array([tweet.favorite_count for tweet in tweets])\n",
    "        df['retweets'] = np.array([tweet.retweet_count for tweet in tweets])\n",
    "\n",
    "        return df\n",
    "\n",
    " \n",
    "if __name__ == '__main__':\n",
    "\n",
    "    twitter_client = TwitterClient()\n",
    "    tweet_analyzer = TweetAnalyzer()\n",
    "\n",
    "    api = twitter_client.get_twitter_client_api()\n",
    "\n",
    "    tweets = api.user_timeline(screen_name=\"awscloud\", count=200)\n",
    "\n",
    "    df = tweet_analyzer.tweets_to_data_frame(tweets)\n",
    "    df['sentiment'] = np.array([tweet_analyzer.analyze_sentiment(tweet) for tweet in df['tweets']])\n",
    "\n",
    "    print(df)"
   ]
  },
  {
   "cell_type": "code",
   "execution_count": 7,
   "metadata": {},
   "outputs": [
    {
     "data": {
      "text/plain": [
       "Index(['tweets', 'id', 'len', 'date', 'source', 'likes', 'retweets',\n",
       "       'sentiment'],\n",
       "      dtype='object')"
      ]
     },
     "execution_count": 7,
     "metadata": {},
     "output_type": "execute_result"
    }
   ],
   "source": [
    "df.columns"
   ]
  },
  {
   "cell_type": "code",
   "execution_count": 8,
   "metadata": {},
   "outputs": [
    {
     "name": "stdout",
     "output_type": "stream",
     "text": [
      "119\n",
      "6\n",
      "75\n"
     ]
    }
   ],
   "source": [
    "positive_count = df[df.sentiment == 1].count()\n",
    "neutral_count = df[df.sentiment == 0].count()\n",
    "negative_count = df[df.sentiment == -1].count()\n",
    "print(positive_count[\"sentiment\"])\n",
    "print(negative_count[\"sentiment\"])\n",
    "print(neutral_count[\"sentiment\"])"
   ]
  },
  {
   "cell_type": "code",
   "execution_count": 9,
   "metadata": {},
   "outputs": [
    {
     "data": {
      "image/png": "[encoded data removed]",
      "text/plain": [
       "<Figure size 432x288 with 1 Axes>"
      ]
     },
     "metadata": {
      "needs_background": "light"
     },
     "output_type": "display_data"
    },
    {
     "data": {
      "text/plain": [
       "<matplotlib.axes._subplots.AxesSubplot at 0x1f2f0805a90>"
      ]
     },
     "execution_count": 9,
     "metadata": {},
     "output_type": "execute_result"
    },
    {
     "data": {
      "image/png": "[encoded data removed]",
      "text/plain": [
       "<Figure size 432x288 with 1 Axes>"
      ]
     },
     "metadata": {
      "needs_background": "light"
     },
     "output_type": "display_data"
    }
   ],
   "source": [
    "import seaborn as sns\n",
    "df['sentiment'].value_counts().plot(kind='bar')\n",
    "plt.xlabel(\"sentimen\")\n",
    "plt.ylabel(\"Jumlah\")\n",
    "plt.show()\n",
    "\n",
    "sns.countplot(df['sentiment'], color='gray')"
   ]
  },
  {
   "cell_type": "code",
   "execution_count": 10,
   "metadata": {},
   "outputs": [
    {
     "data": {
      "image/png": "[encoded data removed]",
      "text/plain": [
       "<Figure size 432x288 with 1 Axes>"
      ]
     },
     "metadata": {},
     "output_type": "display_data"
    }
   ],
   "source": [
    "# Pie chart, where the slices will be ordered and plotted counter-clockwise:\n",
    "labels = 'positive', 'neutral', 'negative'\n",
    "sizes = [positive_count[\"sentiment\"], neutral_count[\"sentiment\"], negative_count[\"sentiment\"]]\n",
    "explode = (0.1, 0.1, 0.1)  # only \"explode\" the 2nd slice (i.e. 'Hogs')\n",
    "\n",
    "fig1, ax1 = plt.subplots()\n",
    "ax1.pie(sizes, explode=explode, labels=labels, autopct='%1.1f%%',\n",
    "        shadow=True, startangle=90)\n",
    "ax1.axis('equal')  # Equal aspect ratio ensures that pie is drawn as a circle.\n",
    "\n",
    "plt.show()"
   ]
  },
  {
   "cell_type": "code",
   "execution_count": 11,
   "metadata": {},
   "outputs": [
    {
     "data": {
      "text/html": [
       "<div>\n",
       "<style scoped>\n",
       "    .dataframe tbody tr th:only-of-type {\n",
       "        vertical-align: middle;\n",
       "    }\n",
       "\n",
       "    .dataframe tbody tr th {\n",
       "        vertical-align: top;\n",
       "    }\n",
       "\n",
       "    .dataframe thead th {\n",
       "        text-align: right;\n",
       "    }\n",
       "</style>\n",
       "<table border=\"1\" class=\"dataframe\">\n",
       "  <thead>\n",
       "    <tr style=\"text-align: right;\">\n",
       "      <th></th>\n",
       "      <th>tweets</th>\n",
       "      <th>id</th>\n",
       "      <th>len</th>\n",
       "      <th>date</th>\n",
       "      <th>source</th>\n",
       "      <th>likes</th>\n",
       "      <th>retweets</th>\n",
       "      <th>sentiment</th>\n",
       "    </tr>\n",
       "  </thead>\n",
       "  <tbody>\n",
       "    <tr>\n",
       "      <th>0</th>\n",
       "      <td>Complete #AWSDeepRacer weekly challenges for y...</td>\n",
       "      <td>1163213159416700929</td>\n",
       "      <td>140</td>\n",
       "      <td>2019-08-18 22:16:43</td>\n",
       "      <td>Sprinklr</td>\n",
       "      <td>12</td>\n",
       "      <td>4</td>\n",
       "      <td>1</td>\n",
       "    </tr>\n",
       "    <tr>\n",
       "      <th>1</th>\n",
       "      <td>New #AWSLaunches!\\n🚀AWS App Mesh now supports ...</td>\n",
       "      <td>1163204427718778882</td>\n",
       "      <td>140</td>\n",
       "      <td>2019-08-18 21:42:01</td>\n",
       "      <td>Sprinklr</td>\n",
       "      <td>18</td>\n",
       "      <td>7</td>\n",
       "      <td>1</td>\n",
       "    </tr>\n",
       "    <tr>\n",
       "      <th>2</th>\n",
       "      <td>Find out how to build, secure &amp;amp; manage you...</td>\n",
       "      <td>1163172215615033346</td>\n",
       "      <td>137</td>\n",
       "      <td>2019-08-18 19:34:01</td>\n",
       "      <td>Sprinklr</td>\n",
       "      <td>24</td>\n",
       "      <td>11</td>\n",
       "      <td>1</td>\n",
       "    </tr>\n",
       "    <tr>\n",
       "      <th>3</th>\n",
       "      <td>Not sure which AWS data transfer tools are bes...</td>\n",
       "      <td>1163166606916300801</td>\n",
       "      <td>140</td>\n",
       "      <td>2019-08-18 19:11:44</td>\n",
       "      <td>Sprinklr</td>\n",
       "      <td>84</td>\n",
       "      <td>23</td>\n",
       "      <td>1</td>\n",
       "    </tr>\n",
       "    <tr>\n",
       "      <th>4</th>\n",
       "      <td>Heading to #VMworld 2019 US? Check out our \"Kn...</td>\n",
       "      <td>1163143775230844929</td>\n",
       "      <td>140</td>\n",
       "      <td>2019-08-18 17:41:00</td>\n",
       "      <td>Sprinklr</td>\n",
       "      <td>21</td>\n",
       "      <td>11</td>\n",
       "      <td>1</td>\n",
       "    </tr>\n",
       "  </tbody>\n",
       "</table>\n",
       "</div>"
      ],
      "text/plain": [
       "                                              tweets                   id  \\\n",
       "0  Complete #AWSDeepRacer weekly challenges for y...  1163213159416700929   \n",
       "1  New #AWSLaunches!\\n🚀AWS App Mesh now supports ...  1163204427718778882   \n",
       "2  Find out how to build, secure &amp; manage you...  1163172215615033346   \n",
       "3  Not sure which AWS data transfer tools are bes...  1163166606916300801   \n",
       "4  Heading to #VMworld 2019 US? Check out our \"Kn...  1163143775230844929   \n",
       "\n",
       "   len                date    source  likes  retweets  sentiment  \n",
       "0  140 2019-08-18 22:16:43  Sprinklr     12         4          1  \n",
       "1  140 2019-08-18 21:42:01  Sprinklr     18         7          1  \n",
       "2  137 2019-08-18 19:34:01  Sprinklr     24        11          1  \n",
       "3  140 2019-08-18 19:11:44  Sprinklr     84        23          1  \n",
       "4  140 2019-08-18 17:41:00  Sprinklr     21        11          1  "
      ]
     },
     "execution_count": 11,
     "metadata": {},
     "output_type": "execute_result"
    }
   ],
   "source": [
    "df.head()"
   ]
  },
  {
   "cell_type": "code",
   "execution_count": 12,
   "metadata": {},
   "outputs": [],
   "source": [
    "df_log = df"
   ]
  },
  {
   "cell_type": "code",
   "execution_count": 13,
   "metadata": {},
   "outputs": [
    {
     "name": "stdout",
     "output_type": "stream",
     "text": [
      "Menentukan nilai dari variabel retweets dan likes yang nilai nya 0\n",
      "retweets = 0\n",
      "likes = 6\n"
     ]
    }
   ],
   "source": [
    "#checking zeros value in retweets and likes \n",
    "retweets_zeros = df_log[df_log.retweets == 0].count()\n",
    "likes_zeros = df_log[df_log.likes == 0].count()\n",
    "print(\"Menentukan nilai dari variabel retweets dan likes yang nilai nya 0\")\n",
    "print(\"retweets =\",retweets_zeros[\"retweets\"])\n",
    "print(\"likes =\",likes_zeros[\"likes\"])"
   ]
  },
  {
   "cell_type": "code",
   "execution_count": 14,
   "metadata": {},
   "outputs": [],
   "source": [
    "# Ambil indeks dari kolom likes yang nilai nya sama dengan nol\n",
    "indexNames = df_log[ df_log['likes'] == 0 ].index\n",
    " \n",
    "# Delete these row indexes from dataFrame\n",
    "df_log.drop(indexNames , inplace=True)"
   ]
  },
  {
   "cell_type": "code",
   "execution_count": 15,
   "metadata": {},
   "outputs": [
    {
     "data": {
      "text/html": [
       "<div>\n",
       "<style scoped>\n",
       "    .dataframe tbody tr th:only-of-type {\n",
       "        vertical-align: middle;\n",
       "    }\n",
       "\n",
       "    .dataframe tbody tr th {\n",
       "        vertical-align: top;\n",
       "    }\n",
       "\n",
       "    .dataframe thead th {\n",
       "        text-align: right;\n",
       "    }\n",
       "</style>\n",
       "<table border=\"1\" class=\"dataframe\">\n",
       "  <thead>\n",
       "    <tr style=\"text-align: right;\">\n",
       "      <th></th>\n",
       "      <th>tweets</th>\n",
       "      <th>id</th>\n",
       "      <th>len</th>\n",
       "      <th>date</th>\n",
       "      <th>source</th>\n",
       "      <th>likes</th>\n",
       "      <th>retweets</th>\n",
       "      <th>sentiment</th>\n",
       "    </tr>\n",
       "  </thead>\n",
       "  <tbody>\n",
       "    <tr>\n",
       "      <th>0</th>\n",
       "      <td>Complete #AWSDeepRacer weekly challenges for y...</td>\n",
       "      <td>1163213159416700929</td>\n",
       "      <td>140</td>\n",
       "      <td>2019-08-18 22:16:43</td>\n",
       "      <td>Sprinklr</td>\n",
       "      <td>12</td>\n",
       "      <td>4</td>\n",
       "      <td>1</td>\n",
       "    </tr>\n",
       "    <tr>\n",
       "      <th>1</th>\n",
       "      <td>New #AWSLaunches!\\n🚀AWS App Mesh now supports ...</td>\n",
       "      <td>1163204427718778882</td>\n",
       "      <td>140</td>\n",
       "      <td>2019-08-18 21:42:01</td>\n",
       "      <td>Sprinklr</td>\n",
       "      <td>18</td>\n",
       "      <td>7</td>\n",
       "      <td>1</td>\n",
       "    </tr>\n",
       "    <tr>\n",
       "      <th>2</th>\n",
       "      <td>Find out how to build, secure &amp;amp; manage you...</td>\n",
       "      <td>1163172215615033346</td>\n",
       "      <td>137</td>\n",
       "      <td>2019-08-18 19:34:01</td>\n",
       "      <td>Sprinklr</td>\n",
       "      <td>24</td>\n",
       "      <td>11</td>\n",
       "      <td>1</td>\n",
       "    </tr>\n",
       "    <tr>\n",
       "      <th>3</th>\n",
       "      <td>Not sure which AWS data transfer tools are bes...</td>\n",
       "      <td>1163166606916300801</td>\n",
       "      <td>140</td>\n",
       "      <td>2019-08-18 19:11:44</td>\n",
       "      <td>Sprinklr</td>\n",
       "      <td>84</td>\n",
       "      <td>23</td>\n",
       "      <td>1</td>\n",
       "    </tr>\n",
       "    <tr>\n",
       "      <th>4</th>\n",
       "      <td>Heading to #VMworld 2019 US? Check out our \"Kn...</td>\n",
       "      <td>1163143775230844929</td>\n",
       "      <td>140</td>\n",
       "      <td>2019-08-18 17:41:00</td>\n",
       "      <td>Sprinklr</td>\n",
       "      <td>21</td>\n",
       "      <td>11</td>\n",
       "      <td>1</td>\n",
       "    </tr>\n",
       "  </tbody>\n",
       "</table>\n",
       "</div>"
      ],
      "text/plain": [
       "                                              tweets                   id  \\\n",
       "0  Complete #AWSDeepRacer weekly challenges for y...  1163213159416700929   \n",
       "1  New #AWSLaunches!\\n🚀AWS App Mesh now supports ...  1163204427718778882   \n",
       "2  Find out how to build, secure &amp; manage you...  1163172215615033346   \n",
       "3  Not sure which AWS data transfer tools are bes...  1163166606916300801   \n",
       "4  Heading to #VMworld 2019 US? Check out our \"Kn...  1163143775230844929   \n",
       "\n",
       "   len                date    source  likes  retweets  sentiment  \n",
       "0  140 2019-08-18 22:16:43  Sprinklr     12         4          1  \n",
       "1  140 2019-08-18 21:42:01  Sprinklr     18         7          1  \n",
       "2  137 2019-08-18 19:34:01  Sprinklr     24        11          1  \n",
       "3  140 2019-08-18 19:11:44  Sprinklr     84        23          1  \n",
       "4  140 2019-08-18 17:41:00  Sprinklr     21        11          1  "
      ]
     },
     "execution_count": 15,
     "metadata": {},
     "output_type": "execute_result"
    }
   ],
   "source": [
    "df.head()"
   ]
  },
  {
   "cell_type": "code",
   "execution_count": 16,
   "metadata": {},
   "outputs": [
    {
     "data": {
      "text/html": [
       "<div>\n",
       "<style scoped>\n",
       "    .dataframe tbody tr th:only-of-type {\n",
       "        vertical-align: middle;\n",
       "    }\n",
       "\n",
       "    .dataframe tbody tr th {\n",
       "        vertical-align: top;\n",
       "    }\n",
       "\n",
       "    .dataframe thead th {\n",
       "        text-align: right;\n",
       "    }\n",
       "</style>\n",
       "<table border=\"1\" class=\"dataframe\">\n",
       "  <thead>\n",
       "    <tr style=\"text-align: right;\">\n",
       "      <th></th>\n",
       "      <th>tweets</th>\n",
       "      <th>id</th>\n",
       "      <th>len</th>\n",
       "      <th>date</th>\n",
       "      <th>source</th>\n",
       "      <th>likes</th>\n",
       "      <th>retweets</th>\n",
       "      <th>sentiment</th>\n",
       "    </tr>\n",
       "  </thead>\n",
       "  <tbody>\n",
       "    <tr>\n",
       "      <th>0</th>\n",
       "      <td>Complete #AWSDeepRacer weekly challenges for y...</td>\n",
       "      <td>1163213159416700929</td>\n",
       "      <td>140</td>\n",
       "      <td>2019-08-18 22:16:43</td>\n",
       "      <td>Sprinklr</td>\n",
       "      <td>12</td>\n",
       "      <td>4</td>\n",
       "      <td>1</td>\n",
       "    </tr>\n",
       "    <tr>\n",
       "      <th>1</th>\n",
       "      <td>New #AWSLaunches!\\n🚀AWS App Mesh now supports ...</td>\n",
       "      <td>1163204427718778882</td>\n",
       "      <td>140</td>\n",
       "      <td>2019-08-18 21:42:01</td>\n",
       "      <td>Sprinklr</td>\n",
       "      <td>18</td>\n",
       "      <td>7</td>\n",
       "      <td>1</td>\n",
       "    </tr>\n",
       "    <tr>\n",
       "      <th>2</th>\n",
       "      <td>Find out how to build, secure &amp;amp; manage you...</td>\n",
       "      <td>1163172215615033346</td>\n",
       "      <td>137</td>\n",
       "      <td>2019-08-18 19:34:01</td>\n",
       "      <td>Sprinklr</td>\n",
       "      <td>24</td>\n",
       "      <td>11</td>\n",
       "      <td>1</td>\n",
       "    </tr>\n",
       "    <tr>\n",
       "      <th>3</th>\n",
       "      <td>Not sure which AWS data transfer tools are bes...</td>\n",
       "      <td>1163166606916300801</td>\n",
       "      <td>140</td>\n",
       "      <td>2019-08-18 19:11:44</td>\n",
       "      <td>Sprinklr</td>\n",
       "      <td>84</td>\n",
       "      <td>23</td>\n",
       "      <td>1</td>\n",
       "    </tr>\n",
       "    <tr>\n",
       "      <th>4</th>\n",
       "      <td>Heading to #VMworld 2019 US? Check out our \"Kn...</td>\n",
       "      <td>1163143775230844929</td>\n",
       "      <td>140</td>\n",
       "      <td>2019-08-18 17:41:00</td>\n",
       "      <td>Sprinklr</td>\n",
       "      <td>21</td>\n",
       "      <td>11</td>\n",
       "      <td>1</td>\n",
       "    </tr>\n",
       "  </tbody>\n",
       "</table>\n",
       "</div>"
      ],
      "text/plain": [
       "                                              tweets                   id  \\\n",
       "0  Complete #AWSDeepRacer weekly challenges for y...  1163213159416700929   \n",
       "1  New #AWSLaunches!\\n🚀AWS App Mesh now supports ...  1163204427718778882   \n",
       "2  Find out how to build, secure &amp; manage you...  1163172215615033346   \n",
       "3  Not sure which AWS data transfer tools are bes...  1163166606916300801   \n",
       "4  Heading to #VMworld 2019 US? Check out our \"Kn...  1163143775230844929   \n",
       "\n",
       "   len                date    source  likes  retweets  sentiment  \n",
       "0  140 2019-08-18 22:16:43  Sprinklr     12         4          1  \n",
       "1  140 2019-08-18 21:42:01  Sprinklr     18         7          1  \n",
       "2  137 2019-08-18 19:34:01  Sprinklr     24        11          1  \n",
       "3  140 2019-08-18 19:11:44  Sprinklr     84        23          1  \n",
       "4  140 2019-08-18 17:41:00  Sprinklr     21        11          1  "
      ]
     },
     "execution_count": 16,
     "metadata": {},
     "output_type": "execute_result"
    }
   ],
   "source": [
    "df_log.head()"
   ]
  },
  {
   "cell_type": "code",
   "execution_count": 17,
   "metadata": {},
   "outputs": [
    {
     "name": "stdout",
     "output_type": "stream",
     "text": [
      "Menentukan nilai dari variabel retweets dan likes yang nilai nya 0\n",
      "retweets = 0\n",
      "likes = 0\n"
     ]
    }
   ],
   "source": [
    "#checking zeros value in retweets and likes \n",
    "retweets_zeros = df_log[df_log.retweets == 0].count()\n",
    "likes_zeros = df_log[df_log.likes == 0].count()\n",
    "print(\"Menentukan nilai dari variabel retweets dan likes yang nilai nya 0\")\n",
    "print(\"retweets =\",retweets_zeros[\"retweets\"])\n",
    "print(\"likes =\",likes_zeros[\"likes\"])"
   ]
  },
  {
   "cell_type": "code",
   "execution_count": 18,
   "metadata": {},
   "outputs": [],
   "source": [
    "#Multiclass Logistic Classification\n",
    "#Definisikan X sebagai retweets dan likes dan y sebagai sentiment\n",
    "X = df.iloc[:, [5, 6]].values\n",
    "y = df.iloc[:, 7].values"
   ]
  },
  {
   "cell_type": "code",
   "execution_count": 19,
   "metadata": {},
   "outputs": [
    {
     "data": {
      "text/plain": [
       "array([[ 12,   4],\n",
       "       [ 18,   7],\n",
       "       [ 24,  11],\n",
       "       [ 84,  23],\n",
       "       [ 21,  11],\n",
       "       [ 39,  12],\n",
       "       [ 24,  10],\n",
       "       [ 41,  18],\n",
       "       [ 57,  20],\n",
       "       [ 23,   9],\n",
       "       [ 62,  13],\n",
       "       [ 41,  13],\n",
       "       [ 51,  12],\n",
       "       [ 33,   9],\n",
       "       [ 29,   9],\n",
       "       [ 47,  13],\n",
       "       [ 24,  10],\n",
       "       [ 42,  18],\n",
       "       [ 20,   7],\n",
       "       [ 27,  11],\n",
       "       [ 21,  10],\n",
       "       [ 17,  11],\n",
       "       [156,  40],\n",
       "       [ 73,  27],\n",
       "       [ 39,  18],\n",
       "       [ 41,  14],\n",
       "       [ 27,  12],\n",
       "       [ 24,  20],\n",
       "       [170,  27],\n",
       "       [ 24,  13],\n",
       "       [ 28,  14],\n",
       "       [ 25,   9],\n",
       "       [ 30,   8],\n",
       "       [ 32,   9],\n",
       "       [ 49,  22],\n",
       "       [ 19,   8],\n",
       "       [ 23,   9],\n",
       "       [ 41,  13],\n",
       "       [ 28,  15],\n",
       "       [ 23,   6],\n",
       "       [ 19,   7],\n",
       "       [ 17,   9],\n",
       "       [ 24,   7],\n",
       "       [ 21,   8],\n",
       "       [ 37,  12],\n",
       "       [ 27,   9],\n",
       "       [ 43,  16],\n",
       "       [ 25,   7],\n",
       "       [ 24,   7],\n",
       "       [ 48,  18],\n",
       "       [ 63,  24],\n",
       "       [ 23,   9],\n",
       "       [ 38,  18],\n",
       "       [ 20,  10],\n",
       "       [ 26,   7],\n",
       "       [ 32,  17],\n",
       "       [ 39,  18],\n",
       "       [ 35,  17],\n",
       "       [ 30,  11],\n",
       "       [ 45,  13],\n",
       "       [ 53,  14],\n",
       "       [ 30,  15],\n",
       "       [ 17,   9],\n",
       "       [ 38,  10],\n",
       "       [ 61,  16],\n",
       "       [ 35,  15],\n",
       "       [ 21,   9],\n",
       "       [ 27,  14],\n",
       "       [ 27,  10],\n",
       "       [ 56,  17],\n",
       "       [ 58,  25],\n",
       "       [ 19,   7],\n",
       "       [ 29,   8],\n",
       "       [ 42,  17],\n",
       "       [ 18,  13],\n",
       "       [ 31,   9],\n",
       "       [ 37,  15],\n",
       "       [106,  32],\n",
       "       [ 38,  16],\n",
       "       [ 18,   7],\n",
       "       [ 38,  15],\n",
       "       [118,  38],\n",
       "       [ 36,  15],\n",
       "       [ 39,  18],\n",
       "       [ 68,  16],\n",
       "       [ 47,  16],\n",
       "       [ 26,  15],\n",
       "       [ 27,  19],\n",
       "       [ 30,  14],\n",
       "       [ 32,  25],\n",
       "       [ 19,   9],\n",
       "       [ 31,  16],\n",
       "       [ 30,  10],\n",
       "       [141,  60],\n",
       "       [ 16,   5],\n",
       "       [ 28,   9],\n",
       "       [ 43,  17],\n",
       "       [ 50,  17],\n",
       "       [ 47,  12],\n",
       "       [ 65,  23],\n",
       "       [ 17,   9],\n",
       "       [ 45,  23],\n",
       "       [ 27,  14],\n",
       "       [ 34,  16],\n",
       "       [ 19,  11],\n",
       "       [ 36,  15],\n",
       "       [ 17,  10],\n",
       "       [ 20,  12],\n",
       "       [ 42,  19],\n",
       "       [ 56,  19],\n",
       "       [ 34,  12],\n",
       "       [ 33,  10],\n",
       "       [ 85,  40],\n",
       "       [ 17,   7],\n",
       "       [ 60,  20],\n",
       "       [ 31,  10],\n",
       "       [ 13,   5],\n",
       "       [ 36,  14],\n",
       "       [ 25,   8],\n",
       "       [ 25,  12],\n",
       "       [ 19,   9],\n",
       "       [ 18,   6],\n",
       "       [ 36,  10],\n",
       "       [ 83,  21],\n",
       "       [ 35,  24],\n",
       "       [ 53,  27],\n",
       "       [ 32,  12],\n",
       "       [ 45,  19],\n",
       "       [ 24,   9],\n",
       "       [ 66,  28],\n",
       "       [ 42,  23],\n",
       "       [ 31,  11],\n",
       "       [ 30,  11],\n",
       "       [ 18,   6],\n",
       "       [ 13,   6],\n",
       "       [ 76,  26],\n",
       "       [ 26,  10],\n",
       "       [ 18,   7],\n",
       "       [ 28,  10],\n",
       "       [ 46,  26],\n",
       "       [ 18,  17],\n",
       "       [ 13,   6],\n",
       "       [ 32,  12],\n",
       "       [ 40,  21],\n",
       "       [ 53,  24],\n",
       "       [ 37,  15],\n",
       "       [ 20,  16],\n",
       "       [ 13,   6],\n",
       "       [ 42,  22],\n",
       "       [ 27,  12],\n",
       "       [ 21,   6],\n",
       "       [ 21,   9],\n",
       "       [ 54,  19],\n",
       "       [ 44,  13],\n",
       "       [ 24,   8],\n",
       "       [ 26,  10],\n",
       "       [ 28,  12],\n",
       "       [ 18,   9],\n",
       "       [ 38,  12],\n",
       "       [ 99,  36],\n",
       "       [ 43,  20],\n",
       "       [ 57,  28],\n",
       "       [ 68,  30],\n",
       "       [ 27,  10],\n",
       "       [ 32,  10],\n",
       "       [ 58,  30],\n",
       "       [ 37,  20],\n",
       "       [117,  53],\n",
       "       [ 48,  18],\n",
       "       [ 35,  17],\n",
       "       [ 74,  22],\n",
       "       [ 63,  24],\n",
       "       [ 53,  17],\n",
       "       [ 18,  13],\n",
       "       [ 84,  37],\n",
       "       [ 37,  12],\n",
       "       [ 55,  11],\n",
       "       [ 31,  14],\n",
       "       [ 30,  12],\n",
       "       [ 27,   8],\n",
       "       [ 20,  10],\n",
       "       [ 30,  11],\n",
       "       [ 32,  12],\n",
       "       [ 28,   7],\n",
       "       [ 46,  14],\n",
       "       [ 55,  32],\n",
       "       [ 28,   9],\n",
       "       [ 21,  10],\n",
       "       [ 32,  22],\n",
       "       [ 36,  12],\n",
       "       [ 29,  10],\n",
       "       [ 40,  14],\n",
       "       [ 32,  18],\n",
       "       [241,  41]])"
      ]
     },
     "execution_count": 19,
     "metadata": {},
     "output_type": "execute_result"
    }
   ],
   "source": [
    "X"
   ]
  },
  {
   "cell_type": "code",
   "execution_count": 20,
   "metadata": {},
   "outputs": [
    {
     "data": {
      "text/plain": [
       "array([ 1,  1,  1,  1,  1,  1,  0,  0,  1,  0,  1,  0,  1,  1,  1,  0,  0,\n",
       "        0,  1,  1,  1,  1,  1,  0,  1,  0,  1,  1, -1,  0,  1,  1,  0,  0,\n",
       "        0,  1,  1,  0,  1,  1,  1,  1,  1,  0,  1,  0, -1,  0,  1,  1,  0,\n",
       "        1,  1,  1,  1,  1,  1,  0,  1,  0,  0,  1,  1,  1,  1,  0,  1,  1,\n",
       "        0,  1,  1,  1,  1,  1,  1, -1,  1,  1,  0,  0,  1,  0,  1,  0,  1,\n",
       "        0,  0,  1,  1,  1,  1,  1,  0,  0,  1,  0,  0,  1,  0,  1, -1,  1,\n",
       "        1,  1,  1,  1,  0,  1,  0,  0,  0,  0, -1,  1,  1,  1,  1,  0,  1,\n",
       "        1,  0,  1,  1,  0,  1,  1,  1,  1,  0,  1,  1,  0,  0,  1,  1,  0,\n",
       "        0,  0,  1,  1,  1,  0,  1,  0,  0,  1,  1,  1,  0,  1,  0,  0,  0,\n",
       "        0,  0,  0,  1,  1,  1,  1,  0,  1,  0,  1,  1,  1,  0,  0,  1,  1,\n",
       "        0,  0,  0,  1,  0,  1,  1,  1,  1,  1,  1,  0,  1, -1,  1,  0,  0,\n",
       "        1,  1,  1,  0,  1,  1,  0])"
      ]
     },
     "execution_count": 20,
     "metadata": {},
     "output_type": "execute_result"
    }
   ],
   "source": [
    "y"
   ]
  },
  {
   "cell_type": "code",
   "execution_count": 39,
   "metadata": {},
   "outputs": [],
   "source": [
    "# Splitting the dataset into the Training set and Test set\n",
    "from sklearn.model_selection import train_test_split\n",
    "X_train, X_test, y_train, y_test = train_test_split(X, y, test_size = 0.20, random_state = 34)"
   ]
  },
  {
   "cell_type": "code",
   "execution_count": 40,
   "metadata": {},
   "outputs": [
    {
     "name": "stderr",
     "output_type": "stream",
     "text": [
      "C:\\Users\\RIZIQ\\Anaconda3\\lib\\site-packages\\sklearn\\utils\\validation.py:595: DataConversionWarning: Data with input dtype int32 was converted to float64 by StandardScaler.\n",
      "  warnings.warn(msg, DataConversionWarning)\n",
      "C:\\Users\\RIZIQ\\Anaconda3\\lib\\site-packages\\sklearn\\utils\\validation.py:595: DataConversionWarning: Data with input dtype int32 was converted to float64 by StandardScaler.\n",
      "  warnings.warn(msg, DataConversionWarning)\n",
      "C:\\Users\\RIZIQ\\Anaconda3\\lib\\site-packages\\sklearn\\utils\\validation.py:595: DataConversionWarning: Data with input dtype int32 was converted to float64 by StandardScaler.\n",
      "  warnings.warn(msg, DataConversionWarning)\n"
     ]
    }
   ],
   "source": [
    "# Feature Scaling to bring the variable in a single scale\n",
    "from sklearn.preprocessing import StandardScaler\n",
    "sc = StandardScaler()\n",
    "X_train = sc.fit_transform(X_train)\n",
    "X_test = sc.transform(X_test)"
   ]
  },
  {
   "cell_type": "code",
   "execution_count": 41,
   "metadata": {},
   "outputs": [
    {
     "name": "stderr",
     "output_type": "stream",
     "text": [
      "C:\\Users\\RIZIQ\\Anaconda3\\lib\\site-packages\\sklearn\\linear_model\\logistic.py:433: FutureWarning: Default solver will be changed to 'lbfgs' in 0.22. Specify a solver to silence this warning.\n",
      "  FutureWarning)\n",
      "C:\\Users\\RIZIQ\\Anaconda3\\lib\\site-packages\\sklearn\\linear_model\\logistic.py:460: FutureWarning: Default multi_class will be changed to 'auto' in 0.22. Specify the multi_class option to silence this warning.\n",
      "  \"this warning.\", FutureWarning)\n"
     ]
    },
    {
     "data": {
      "text/plain": [
       "LogisticRegression(C=1.0, class_weight=None, dual=False, fit_intercept=True,\n",
       "          intercept_scaling=1, max_iter=100, multi_class='warn',\n",
       "          n_jobs=None, penalty='l2', random_state=None, solver='warn',\n",
       "          tol=0.0001, verbose=0, warm_start=False)"
      ]
     },
     "execution_count": 41,
     "metadata": {},
     "output_type": "execute_result"
    }
   ],
   "source": [
    "# Fitting Multiclass Logistic Classification to the Training set\n",
    "from sklearn.linear_model import LogisticRegression\n",
    "logisticregression = LogisticRegression()\n",
    "logisticregression.fit(X_train, y_train)"
   ]
  },
  {
   "cell_type": "code",
   "execution_count": 42,
   "metadata": {},
   "outputs": [
    {
     "name": "stdout",
     "output_type": "stream",
     "text": [
      "[ 1  0  1  1  1  1  1  1  1  1  1  1  1  1 -1  1  1  1  1  1  1  1  1  1\n",
      "  1  1  1  1  1  0  1  1  1  1  1  0  1  1  1]\n"
     ]
    }
   ],
   "source": [
    "# Predicting the Test set results\n",
    "y_pred = logisticregression.predict(X_test)\n",
    "print(y_pred)"
   ]
  },
  {
   "cell_type": "code",
   "execution_count": 43,
   "metadata": {},
   "outputs": [
    {
     "data": {
      "text/plain": [
       "array([[1, 1],\n",
       "       [0, 0],\n",
       "       [1, 1],\n",
       "       [1, 1],\n",
       "       [1, 1]])"
      ]
     },
     "execution_count": 43,
     "metadata": {},
     "output_type": "execute_result"
    }
   ],
   "source": [
    "#lets see the actual and predicted value side by side\n",
    "y_compare = np.vstack((y_test,y_pred)).T\n",
    "#actual value on the left side and predicted value on the right hand side\n",
    "#printing the top 5 values\n",
    "y_compare[:5,:]"
   ]
  },
  {
   "cell_type": "code",
   "execution_count": 44,
   "metadata": {},
   "outputs": [
    {
     "name": "stdout",
     "output_type": "stream",
     "text": [
      "[[ 0  0  1]\n",
      " [ 1  2 10]\n",
      " [ 0  1 24]]\n"
     ]
    }
   ],
   "source": [
    "# Making the Confusion Matrix\n",
    "from sklearn.metrics import confusion_matrix\n",
    "cm = confusion_matrix(y_test, y_pred)\n",
    "print(cm)"
   ]
  },
  {
   "cell_type": "code",
   "execution_count": 45,
   "metadata": {},
   "outputs": [
    {
     "data": {
      "text/plain": [
       "(array([-3.0164065 , -0.50228366,  0.37035431]),\n",
       " array([[ 6.03412901e-01, -2.77521037e-01],\n",
       "        [ 1.47471569e-04,  1.31766412e-01],\n",
       "        [-3.10367793e-01,  4.39721253e-02]]))"
      ]
     },
     "execution_count": 45,
     "metadata": {},
     "output_type": "execute_result"
    }
   ],
   "source": [
    "logisticregression.intercept_, logisticregression.coef_"
   ]
  },
  {
   "cell_type": "code",
   "execution_count": 46,
   "metadata": {},
   "outputs": [
    {
     "name": "stdout",
     "output_type": "stream",
     "text": [
      "Correct predictions:  26\n",
      "False predictions 13\n",
      "Accuracy of the multiclass logistic classification is:  0.6666666666666666\n"
     ]
    }
   ],
   "source": [
    "#finding accuracy from the confusion matrix.\n",
    "a = cm.shape\n",
    "corrPred = 0\n",
    "falsePred = 0\n",
    "\n",
    "for row in range(a[0]):\n",
    "    for c in range(a[1]):\n",
    "        if row == c:\n",
    "            corrPred +=cm[row,c]\n",
    "        else:\n",
    "            falsePred += cm[row,c]\n",
    "print('Correct predictions: ', corrPred)\n",
    "print('False predictions', falsePred)\n",
    "print ('Accuracy of the multiclass logistic classification is: ', corrPred/(cm.sum()))"
   ]
  },
  {
   "cell_type": "code",
   "execution_count": null,
   "metadata": {},
   "outputs": [],
   "source": []
  }
 ],
 "metadata": {
  "kernelspec": {
   "display_name": "Python 3",
   "language": "python",
   "name": "python3"
  },
  "language_info": {
   "codemirror_mode": {
    "name": "ipython",
    "version": 3
   },
   "file_extension": ".py",
   "mimetype": "text/x-python",
   "name": "python",
   "nbconvert_exporter": "python",
   "pygments_lexer": "ipython3",
   "version": "3.7.3"
  }
 },
 "nbformat": 4,
 "nbformat_minor": 2
}
